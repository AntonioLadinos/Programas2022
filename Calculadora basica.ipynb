{
  "nbformat": 4,
  "nbformat_minor": 0,
  "metadata": {
    "colab": {
      "name": "Calculadora",
      "provenance": [],
      "authorship_tag": "ABX9TyOpWfUGKFcueoNTxOBOzLG3",
      "include_colab_link": true
    },
    "kernelspec": {
      "name": "python3",
      "display_name": "Python 3"
    },
    "language_info": {
      "name": "python"
    }
  },
  "cells": [
    {
      "cell_type": "markdown",
      "metadata": {
        "id": "view-in-github",
        "colab_type": "text"
      },
      "source": [
        "<a href=\"https://colab.research.google.com/github/AntonioLadinos/Programas2022/blob/main/Calculadora%20basica.ipynb\" target=\"_parent\"><img src=\"https://colab.research.google.com/assets/colab-badge.svg\" alt=\"Open In Colab\"/></a>"
      ]
    },
    {
      "cell_type": "code",
      "execution_count": null,
      "metadata": {
        "id": "8Mm4sInnjkw0",
        "colab": {
          "base_uri": "https://localhost:8080/"
        },
        "outputId": "4ac61d30-69fe-41a9-d5f3-ed70a5995a49"
      },
      "outputs": [
        {
          "output_type": "stream",
          "name": "stdout",
          "text": [
            "Inserte el primer numero 10\n",
            "Inserta el segundo numero 5\n",
            "Operacion a relizar: 4\n",
            "2.0\n"
          ]
        }
      ],
      "source": [
        "num1=int(input('Inserte el primer numero '))\n",
        "num2=int(input('Inserta el segundo numero '))\n",
        "\n",
        "operacion=int(input('Operacion a relizar: '))\n",
        "#1. Suma\n",
        "#2. Resta\n",
        "#3. Multiplicación\n",
        "#4. Division\n",
        "\n",
        "if(operacion==1):\n",
        " total=num1+num2\n",
        "elif(operacion==2):\n",
        "  total=num1-num2\n",
        "elif(operacion==3):\n",
        " total=num1*num2\n",
        "elif(operacion==4):\n",
        "  total=num1/num2\n",
        "\n",
        "print(total)"
      ]
    }
  ]
}