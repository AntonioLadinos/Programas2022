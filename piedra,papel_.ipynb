{
  "nbformat": 4,
  "nbformat_minor": 0,
  "metadata": {
    "colab": {
      "name": "piedra,papel...",
      "provenance": [],
      "collapsed_sections": [],
      "include_colab_link": true
    },
    "kernelspec": {
      "name": "python3",
      "display_name": "Python 3"
    },
    "language_info": {
      "name": "python"
    }
  },
  "cells": [
    {
      "cell_type": "markdown",
      "metadata": {
        "id": "view-in-github",
        "colab_type": "text"
      },
      "source": [
        "<a href=\"https://colab.research.google.com/github/AntonioLadinos/Programas2022/blob/main/piedra%2Cpapel_.ipynb\" target=\"_parent\"><img src=\"https://colab.research.google.com/assets/colab-badge.svg\" alt=\"Open In Colab\"/></a>"
      ]
    },
    {
      "cell_type": "code",
      "execution_count": null,
      "metadata": {
        "colab": {
          "base_uri": "https://localhost:8080/"
        },
        "id": "IPJQU6OSnEIu",
        "outputId": "36db9fd7-1e71-45b6-afe0-708ddd0e4cfb"
      },
      "outputs": [
        {
          "output_type": "stream",
          "name": "stdout",
          "text": [
            "Jugador 1 ingrese su opcion 3\n",
            "Jugador 2 ingrese su opcion 3\n",
            "Empate\n"
          ]
        }
      ],
      "source": [
        "#1. Piedra\n",
        "#2. Papel\n",
        "#3. Tijera\n",
        "#4. Lagarto\n",
        "#5. Spock\n",
        "\n",
        "jugador1=int(input('Jugador 1 ingrese su opcion '))\n",
        "jugador2=int(input('Jugador 2 ingrese su opcion '))\n",
        "\n",
        "if((jugador1==1)and(jugador2==2)):\n",
        "  print(\"Gano jugador 2\")\n",
        "elif((jugador1==1)and(jugador2==3)):\n",
        "  print(\"Gano jugador 1\")\n",
        "elif((jugador1==1)and(jugador2==1)):\n",
        "  print(\"Empate\")\n",
        "elif((jugador1==2)and(jugador2==3)):\n",
        "  print(\"Gano jugador 2\")\n",
        "elif((jugador1==2)and(jugador2==1)):\n",
        "  print(\"Gano jugador 1\")\n",
        "elif((jugador1==2)and(jugador2==2)):\n",
        "  print(\"Empate\")\n",
        "elif((jugador1==3)and(jugador2==1)):\n",
        "  print(\"Gano jugador 2\")\n",
        "elif((jugador1==3)and(jugador2==2)):\n",
        "  print(\"Gano jugador 1\")\n",
        "elif((jugador1==3)and(jugador2==3)):\n",
        "  print(\"Empate\")\n",
        "elif((jugador1==1)and(jugador2==4)):\n",
        "  print(\"Gano jugador 1\")\n",
        "elif((jugador1==2)and(jugador2==4)):\n",
        "  print(\"Gano jugador 2\")\n",
        "elif((jugador1==3)and(jugador2==4)):\n",
        "  print(\"Gano jugador 1\")\n",
        "elif((jugador1==4)and(jugador2==4)):\n",
        "  print(\"Empate\")\n",
        "elif((jugador1==5)and(jugador2==4)):\n",
        "  print(\"Gano jugador 2\")\n",
        "elif((jugador1==1)and(jugador2==5)):\n",
        "  print(\"Gano jugador 2\")\n",
        "elif((jugador1==2)and(jugador2==5)):\n",
        "  print(\"Gano jugador 1\")\n",
        "elif((jugador1==3)and(jugador2==5)):\n",
        "  print(\"Gano jugador 2\")\n",
        "elif((jugador1==4)and(jugador2==5)):\n",
        "  print(\"Gano jugador 1\")\n",
        "elif((jugador1==5)and(jugador2==5)):\n",
        "  print(\"Empate\")\n",
        "elif((jugador1==4)and(jugador2==1)):\n",
        "  print(\"Gano jugador 2\")\n",
        "elif((jugador1==4)and(jugador2==2)):\n",
        "  print(\"Gano jugador 1\")\n",
        "elif((jugador1==4)and(jugador2==3)):\n",
        "  print(\"Gano jugador 2\")\n",
        "elif((jugador1==4)and(jugador2==5)):\n",
        "  print(\"Gano jugador 1\")\n",
        "elif((jugador1==5)and(jugador2==1)):\n",
        "  print(\"Gano jugador 1\")\n",
        "elif((jugador1==5)and(jugador2==2)):\n",
        "  print(\"Gano jugador 2\")\n",
        "elif((jugador1==5)and(jugador2==3)):\n",
        "  print(\"Gano jugador 1\")\n",
        "elif((jugador1==5)and(jugador2==4)):\n",
        "  print(\"Gano jugador 2\")\n",
        "\n"
      ]
    }
  ]
}