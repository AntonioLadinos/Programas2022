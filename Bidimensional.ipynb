{
  "nbformat": 4,
  "nbformat_minor": 0,
  "metadata": {
    "colab": {
      "name": "Bidimensional.ipynb",
      "provenance": [],
      "collapsed_sections": []
    },
    "kernelspec": {
      "name": "python3",
      "display_name": "Python 3"
    },
    "language_info": {
      "name": "python"
    }
  },
  "cells": [
    {
      "cell_type": "code",
      "execution_count": null,
      "metadata": {
        "colab": {
          "base_uri": "https://localhost:8080/"
        },
        "id": "V2VbMAL0Q1vc",
        "outputId": "5c889ffd-8446-4dab-aaf8-87a20756bba6"
      },
      "outputs": [
        {
          "output_type": "stream",
          "name": "stdout",
          "text": [
            "Cuantos Alumnos Ingresara: 2\n",
            "Genero del alumno (1)Hombre (2)Mujer: 1\n",
            "Ingrese Numero de Control: 32101\n",
            "Ingrese Nombre del Alumno: Antonio\n",
            "Ingrese Calificacion: 9\n",
            "Genero del alumno (1)Hombre (2)Mujer: 2\n",
            "Ingrese Numero de Control: 32102\n",
            "Ingrese Nombre del Alumno: Bere\n",
            "Ingrese Calificacion: 10\n",
            "\n",
            "\n",
            "El promedio de los Hombres es:  9.0\n",
            "El promedio de las Mujeres es:  10.0\n",
            "Alumnos:            ['Antonio', 'Bere']\n",
            "N.control:          ['32101', '32102']\n",
            "Calificacion de H:  [9]\n",
            "Calificacion de M:  [10]\n"
          ]
        }
      ],
      "source": [
        "B=[[],[],[],[]]\n",
        "num=int(input('Cuantos Alumnos Ingresara: '))\n",
        "for i in range(0,num):\n",
        "\n",
        "    Gen=(int(input('Genero del alumno (1)Hombre (2)Mujer: ')))\n",
        "    if(Gen==1):\n",
        "      B[0].append(input('Ingrese Numero de Control: '))\n",
        "      B[1].append(input('Ingrese Nombre del Alumno: '))\n",
        "      B[2].append(int(input('Ingrese Calificacion: ')))\n",
        "      suma=sum(B[2])\n",
        "      promedio=suma/len(B[2])\n",
        "    if(Gen==2):\n",
        "      B[0].append(input('Ingrese Numero de Control: '))\n",
        "      B[1].append(input('Ingrese Nombre del Alumno: '))\n",
        "      B[3].append(int(input('Ingrese Calificacion: ')))\n",
        "      suma2=sum(B[3])\n",
        "      promedio2=suma2/len(B[2])\n",
        "print()\n",
        "print()\n",
        "print('El promedio de los Hombres es: ',promedio)\n",
        "print('El promedio de las Mujeres es: ',promedio2)\n",
        "print(('Alumnos:           '),(B[1]))\n",
        "print(('N.control:         '),(B[0]))\n",
        "print(('Calificacion de H: '),(B[2]))\n",
        "print(('Calificacion de M: '),(B[3]))"
      ]
    }
  ]
}