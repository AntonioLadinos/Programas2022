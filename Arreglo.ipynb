{
  "nbformat": 4,
  "nbformat_minor": 0,
  "metadata": {
    "colab": {
      "name": "Arreglo",
      "provenance": [],
      "collapsed_sections": [],
      "authorship_tag": "ABX9TyMJSEtd0ubwiOwU9HhS/+Zs",
      "include_colab_link": true
    },
    "kernelspec": {
      "name": "python3",
      "display_name": "Python 3"
    },
    "language_info": {
      "name": "python"
    }
  },
  "cells": [
    {
      "cell_type": "markdown",
      "metadata": {
        "id": "view-in-github",
        "colab_type": "text"
      },
      "source": [
        "<a href=\"https://colab.research.google.com/github/AntonioLadinos/Programas2022/blob/main/Arreglo.ipynb\" target=\"_parent\"><img src=\"https://colab.research.google.com/assets/colab-badge.svg\" alt=\"Open In Colab\"/></a>"
      ]
    },
    {
      "cell_type": "code",
      "execution_count": null,
      "metadata": {
        "id": "6PK9B6Sy5dsk",
        "colab": {
          "base_uri": "https://localhost:8080/"
        },
        "outputId": "e27c223a-6d1f-4928-9b6e-ed77e3062bda"
      },
      "outputs": [
        {
          "output_type": "stream",
          "name": "stdout",
          "text": [
            "Elige el numero: 3\n",
            "3\n",
            "6\n",
            "9\n",
            "12\n",
            "15\n",
            "18\n",
            "21\n",
            "24\n",
            "27\n",
            "30\n"
          ]
        }
      ],
      "source": [
        "A=[]\n",
        "num=int(input('Elige el numero: '))\n",
        "for i in range(1,11):\n",
        "  A.append(i*num)\n",
        "\n",
        "for i in range(0,10):\n",
        "  print(A[i])"
      ]
    }
  ]
}