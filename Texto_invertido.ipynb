{
  "nbformat": 4,
  "nbformat_minor": 0,
  "metadata": {
    "colab": {
      "name": "Texto invertido.ipynb",
      "provenance": [],
      "collapsed_sections": [],
      "authorship_tag": "ABX9TyPneUt1UNLFU345at8GQ4/5",
      "include_colab_link": true
    },
    "kernelspec": {
      "name": "python3",
      "display_name": "Python 3"
    },
    "language_info": {
      "name": "python"
    }
  },
  "cells": [
    {
      "cell_type": "markdown",
      "metadata": {
        "id": "view-in-github",
        "colab_type": "text"
      },
      "source": [
        "<a href=\"https://colab.research.google.com/github/AntonioLadinos/Programas2022/blob/main/Texto_invertido.ipynb\" target=\"_parent\"><img src=\"https://colab.research.google.com/assets/colab-badge.svg\" alt=\"Open In Colab\"/></a>"
      ]
    },
    {
      "cell_type": "code",
      "execution_count": null,
      "metadata": {
        "colab": {
          "base_uri": "https://localhost:8080/"
        },
        "id": "lx-zlsFw6UKh",
        "outputId": "35b0b179-a81b-4057-de1c-5cdefd55f477"
      },
      "outputs": [
        {
          "output_type": "stream",
          "name": "stdout",
          "text": [
            "Ingrese un texto: perro\n",
            "orrep\n",
            "perro\n"
          ]
        }
      ],
      "source": [
        "Arreglo=[]\n",
        "Arreglo=input('Ingrese un texto: ')\n",
        "holis=''\n",
        "for i in Arreglo:\n",
        "  holis=i+holis\n",
        "print(holis)\n",
        "print(Arreglo)"
      ]
    }
  ]
}