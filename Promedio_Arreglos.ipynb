{
  "nbformat": 4,
  "nbformat_minor": 0,
  "metadata": {
    "colab": {
      "name": "Promedio_Arreglos",
      "provenance": [],
      "collapsed_sections": [],
      "authorship_tag": "ABX9TyNH5TUMPxmFZ4bGhL3vMCZt",
      "include_colab_link": true
    },
    "kernelspec": {
      "name": "python3",
      "display_name": "Python 3"
    },
    "language_info": {
      "name": "python"
    }
  },
  "cells": [
    {
      "cell_type": "markdown",
      "metadata": {
        "id": "view-in-github",
        "colab_type": "text"
      },
      "source": [
        "<a href=\"https://colab.research.google.com/github/AntonioLadinos/Programas2022/blob/main/Promedio_Arreglos.ipynb\" target=\"_parent\"><img src=\"https://colab.research.google.com/assets/colab-badge.svg\" alt=\"Open In Colab\"/></a>"
      ]
    },
    {
      "cell_type": "code",
      "execution_count": 6,
      "metadata": {
        "id": "09zM3x-j7NNQ",
        "colab": {
          "base_uri": "https://localhost:8080/"
        },
        "outputId": "07386f71-ea38-4fcd-c36b-ad7daf47c696"
      },
      "outputs": [
        {
          "output_type": "stream",
          "name": "stdout",
          "text": [
            "Cuantos alumnos ingresara: 3\n",
            "Ingrese Numero de control: 11\n",
            "Ingrese Nombre del alumno: antonio\n",
            "Ingrese Genero: H\n",
            "Ingrese Calificacion: 10\n",
            "Ingrese Numero de control: 12\n",
            "Ingrese Nombre del alumno: bere\n",
            "Ingrese Genero: M\n",
            "Ingrese Calificacion: 10\n",
            "Ingrese Numero de control: 13\n",
            "Ingrese Nombre del alumno: diego\n",
            "Ingrese Genero: H\n",
            "Ingrese Calificacion: 9\n",
            "Promedio de Hombres 0\n",
            "Promedio de Mujeres 10.0\n",
            "[['11', 'antonio', 'H', '10'], ['12', 'bere', 'M', '10'], ['13', 'diego', 'H', '9']]\n"
          ]
        }
      ],
      "source": [
        "#cal=0\n",
        "Toth=0\n",
        "Totm=0\n",
        "Calh=0\n",
        "Calm=0\n",
        "Promh=0\n",
        "Promm=0\n",
        "\n",
        "Datos=4\n",
        "Num=int(input(\"Cuantos alumnos ingresara: \"))\n",
        "A=[]\n",
        "Aux=\"\"\n",
        "for i in range(0,Num):\n",
        "  A.append([0]*Datos)\n",
        "\n",
        "for i in range(0,Num):\n",
        "  for j in range(0,Datos):\n",
        "    if (j==0):\n",
        "      Aux=\"Numero de control\"\n",
        "    elif(j==1):\n",
        "      Aux=\"Nombre del alumno\"\n",
        "    elif(j==2):\n",
        "      Aux=\"Genero Hombre(H) Mujer(M)\"\n",
        "    elif(j==3):\n",
        "      Aux=\"Calificacion\"\n",
        "    A[i][j]=input(\"Ingrese \"+Aux+ \": \" )\n",
        "\n",
        "for i in range(0,Num):\n",
        "  if(A[i][2]=='H'):\n",
        "    Toth=Toth+1\n",
        "    Calh=Calh+int(A[i][3])\n",
        "  if(A[i][2]=='M'):\n",
        "    Totm=Totm+1\n",
        "    Calm=Calm+int(A[i][3])\n",
        "\n",
        "promh=Calh/Toth\n",
        "Promm=Calm/Totm\n",
        "\n",
        "print(\"Promedio de Hombres\",Promh)\n",
        "print(\"Promedio de Mujeres\",Promm)\n",
        "\n",
        "print(A)\n"
      ]
    }
  ]
}