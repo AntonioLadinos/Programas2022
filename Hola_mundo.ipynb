{
  "nbformat": 4,
  "nbformat_minor": 0,
  "metadata": {
    "colab": {
      "name": "Hola mundo.ipynb",
      "provenance": [],
      "collapsed_sections": []
    },
    "kernelspec": {
      "name": "python3",
      "display_name": "Python 3"
    },
    "language_info": {
      "name": "python"
    }
  },
  "cells": [
    {
      "cell_type": "code",
      "execution_count": null,
      "metadata": {
        "id": "0fHSNk78Q_mv",
        "colab": {
          "base_uri": "https://localhost:8080/"
        },
        "outputId": "50a2c740-5fd9-4d4f-9dd3-595ccf58ed42"
      },
      "outputs": [
        {
          "output_type": "stream",
          "name": "stdout",
          "text": [
            "['O', 'D', 'N', 'U', 'M', 'A', 'L', 'O', 'H']\n"
          ]
        }
      ],
      "source": [
        "Arreglo=['H','O','L','A','M','U','N','D','O']\n",
        "j=8\n",
        "for i in range(0,4):\n",
        "  aux=Arreglo[i]\n",
        "  Arreglo[i]=Arreglo[j]\n",
        "  Arreglo[j]=aux\n",
        "  j=j-1\n",
        "print(Arreglo)"
      ]
    }
  ]
}